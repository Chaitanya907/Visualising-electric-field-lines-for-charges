{
 "cells": [
  {
   "cell_type": "code",
   "execution_count": null,
   "metadata": {},
   "outputs": [],
   "source": [
    "import numpy as np\n",
    "import matplotlib.pyplot as plt\n",
    "import ipywidgets as widgets\n",
    "from IPython.display import display"
   ]
  },
  {
   "attachments": {},
   "cell_type": "markdown",
   "metadata": {},
   "source": [
    "## Defining the grid\n"
   ]
  },
  {
   "cell_type": "code",
   "execution_count": null,
   "metadata": {},
   "outputs": [],
   "source": [
    "# Defining the grid\n",
    "x = np.linspace(-5, 5, 23)\n",
    "y = np.linspace(-5, 5, 23)\n",
    "X, Y = np.meshgrid(x, y)\n",
    "\n"
   ]
  },
  {
   "attachments": {},
   "cell_type": "markdown",
   "metadata": {},
   "source": [
    "## Creating charges"
   ]
  },
  {
   "cell_type": "code",
   "execution_count": null,
   "metadata": {},
   "outputs": [],
   "source": [
    "# Creating charges\n",
    "q1 = 1          # Charge magnitude 1\n",
    "q2 = -3        # Charge magnitude 2\n",
    "x1, y1 = -2, 0  # Charge 1 position\n",
    "x2, y2 = 2, 0   # Charge 2 position\n",
    "\n",
    "# Calculating the electric field at each point on the grid\n",
    "def calculate_field(q1, q2, x1, y1, x2, y2):\n",
    "    k = 9 * 10**9  # Coulomb's constant\n",
    "    r1 = np.sqrt((X - x1)**2 + (Y - y1)**2)  # Distance from charge 1\n",
    "    r2 = np.sqrt((X - x2)**2 + (Y - y2)**2)  # Distance from charge 2\n",
    "    Ex1 = k * q1 * (X - x1) / r1**3    # Electric field component from charge 1 along x-axis\n",
    "    Ey1 = k * q1 * (Y - y1) / r1**3    # Electric field component from charge 1 along y-axis\n",
    "    Ex2 = k * q2 * (X - x2) / r2**3    # Electric field component from charge 2 along x-axis\n",
    "    Ey2 = k * q2 * (Y - y2) / r2**3    # Electric field component from charge 2 along y-axis\n",
    "    Ex = Ex1 + Ex2                     # Total electric field component along x-axis\n",
    "    Ey = Ey1 + Ey2                     # Total electric field component along y-axis\n",
    "    return Ex, Ey\n",
    "\n",
    "# Create interactive sliders and input fields\n",
    "q1_slider = widgets.FloatSlider(value=q1, min=-5, max=5, step=0.1, description='Charge 1 (q1):')\n",
    "q2_slider = widgets.FloatSlider(value=q2, min=-5, max=5, step=0.1, description='Charge 2 (q2):')\n",
    "x1_input = widgets.FloatText(value=x1, description='X1 position:')\n",
    "y1_input = widgets.FloatText(value=y1, description='Y1 position:')\n",
    "x2_input = widgets.FloatText(value=x2, description='X2 position:')\n",
    "y2_input = widgets.FloatText(value=y2, description='Y2 position:')\n",
    "\n",
    "# Update the plot when sliders or input fields change\n",
    "def update_plot(change):\n",
    "    q1 = q1_slider.value\n",
    "    q2 = q2_slider.value\n",
    "    x1 = x1_input.value\n",
    "    y1 = y1_input.value\n",
    "    x2 = x2_input.value\n",
    "    y2 = y2_input.value\n",
    "    \n",
    "    Ex, Ey = calculate_field(q1, q2, x1, y1, x2, y2)\n",
    "    Ex_norm = Ex / np.sqrt(Ex**2 + Ey**2)\n",
    "    Ey_norm = Ey / np.sqrt(Ex**2 + Ey**2)\n",
    "    \n",
    "    plt.quiver(X, Y, Ex_norm, Ey_norm, scale=20)\n",
    "    plt.title('Electric Field Lines')\n",
    "    plt.draw()\n",
    "\n",
    "# Register the update function with slider and input field events\n",
    "q1_slider.observe(update_plot, 'value')\n",
    "q2_slider.observe(update_plot, 'value')\n",
    "x1_input.observe(update_plot, 'value')\n",
    "y1_input.observe(update_plot, 'value')\n",
    "x2_input.observe(update_plot, 'value')\n",
    "y2_input.observe(update_plot, 'value')\n",
    "\n",
    "# Create a layout for sliders and input fields\n",
    "layout = widgets.Layout(display='flex', flex_flow='row', justify_content='space-between', width='400px')\n",
    "\n",
    "# Display the sliders and input fields\n",
    "display(widgets.VBox([q1_slider, q2_slider, x1_input, y1_input, x2_input, y2_input], layout=layout))\n",
    "\n",
    "# Create the initial plot\n",
    "plt.figure(figsize=(8, 8))\n",
    "plt.xlabel('x')\n",
    "plt.ylabel('y')\n",
    "plt.title('Electric Field Lines')\n",
    "plt.xlim(-5, 5)\n",
    "plt.ylim(-5, 5)\n",
    "plt.grid(True)\n",
    "\n",
    "# Call update_plot() to initialize the plot\n",
    "update_plot(None)\n",
    "\n",
    "# Show the plot\n",
    "plt.show()\n"
   ]
  }
 ],
 "metadata": {
  "kernelspec": {
   "display_name": "base",
   "language": "python",
   "name": "python3"
  },
  "language_info": {
   "codemirror_mode": {
    "name": "ipython",
    "version": 3
   },
   "file_extension": ".py",
   "mimetype": "text/x-python",
   "name": "python",
   "nbconvert_exporter": "python",
   "pygments_lexer": "ipython3",
   "version": "3.11.3"
  },
  "orig_nbformat": 4
 },
 "nbformat": 4,
 "nbformat_minor": 2
}
